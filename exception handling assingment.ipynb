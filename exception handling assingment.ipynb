{
 "cells": [
  {
   "cell_type": "code",
   "execution_count": 1,
   "metadata": {},
   "outputs": [],
   "source": [
    "# 1. Multithreading vs Multiprocessing:\n",
    "# Multithreading is preferable when:\n",
    "\n",
    "# Tasks are I/O-bound (e.g., file operations, network requests) because threads can run concurrently, even if one is blocked.\n",
    "# You want lightweight concurrency, as threads share the same memory space.\n",
    "# Multiprocessing is preferable when:\n",
    "\n",
    "# Tasks are CPU-bound (e.g., intensive calculations) because processes run on separate CPU cores, utilizing multi-core systems.\n",
    "# You need true parallelism since each process runs in its own memory space, avoiding GIL restrictions in Python."
   ]
  },
  {
   "cell_type": "code",
   "execution_count": 2,
   "metadata": {},
   "outputs": [],
   "source": [
    "# 2. Process Pool:\n",
    "# A Process Pool is a collection of pre-instantiated worker processes that execute tasks concurrently. It manages processes more efficiently by reusing them, avoiding the overhead of creating and destroying processes frequently. In Python, multiprocessing.Pool is commonly used to manage process pools.\n",
    "\n",
    "# 3. Multiprocessing in Python:\n",
    "# Multiprocessing in Python involves using multiple processes instead of threads to achieve parallelism. It is used to bypass the Global Interpreter Lock (GIL) in Python, allowing multiple CPU-bound tasks to execute in parallel on different cores."
   ]
  },
  {
   "cell_type": "code",
   "execution_count": 3,
   "metadata": {},
   "outputs": [
    {
     "name": "stdout",
     "output_type": "stream",
     "text": [
      "Added 0\n",
      "Added 1\n",
      "Added 2\n",
      "Added 3\n",
      "Added 4\n",
      "Removed 0\n",
      "Removed 1\n",
      "Removed 2\n",
      "Removed 3\n",
      "Removed 4\n",
      "Final list: []\n"
     ]
    }
   ],
   "source": [
    "# 4. Multithreading Program with Race Condition Protection:\n",
    "import threading\n",
    "\n",
    "# Shared list\n",
    "shared_list = []\n",
    "lock = threading.Lock()\n",
    "\n",
    "def add_to_list():\n",
    "    for i in range(5):\n",
    "        with lock:\n",
    "            shared_list.append(i)\n",
    "            print(f\"Added {i}\")\n",
    "\n",
    "def remove_from_list():\n",
    "    for i in range(5):\n",
    "        with lock:\n",
    "            if shared_list:\n",
    "                removed = shared_list.pop(0)\n",
    "                print(f\"Removed {removed}\")\n",
    "\n",
    "# Create threads\n",
    "thread1 = threading.Thread(target=add_to_list)\n",
    "thread2 = threading.Thread(target=remove_from_list)\n",
    "\n",
    "# Start threads\n",
    "thread1.start()\n",
    "thread2.start()\n",
    "\n",
    "# Join threads\n",
    "thread1.join()\n",
    "thread2.join()\n",
    "\n",
    "print(\"Final list:\", shared_list)\n"
   ]
  },
  {
   "cell_type": "code",
   "execution_count": 4,
   "metadata": {},
   "outputs": [],
   "source": [
    "# 5. Methods for Sharing Data Between Threads and Processes:\n",
    "# For Threads:\n",
    "# threading.Lock to prevent race conditions.\n",
    "# queue.Queue to safely share data between threads.\n",
    "# For Processes:\n",
    "# multiprocessing.Queue or multiprocessing.Pipe to safely share data between processes.\n",
    "# multiprocessing.Value and multiprocessing.Array for sharing simple data structures.\n",
    "# 6. Importance of Handling Exceptions in Concurrent Programs:\n",
    "# Handling exceptions in concurrent programs is crucial because failures in one thread or process can lead to data corruption or deadlocks. Techniques for handling exceptions include:\n",
    "\n",
    "# Wrapping thread/process logic in try-except blocks.\n",
    "# Using concurrent.futures to propagate exceptions from worker threads or processes back to the main program."
   ]
  },
  {
   "cell_type": "code",
   "execution_count": 5,
   "metadata": {},
   "outputs": [
    {
     "name": "stdout",
     "output_type": "stream",
     "text": [
      "[1, 2, 6, 24, 120, 720, 5040, 40320, 362880, 3628800]\n"
     ]
    }
   ],
   "source": [
    "# 7. Thread Pool for Factorial Calculation:\n",
    "from concurrent.futures import ThreadPoolExecutor\n",
    "import math\n",
    "\n",
    "def factorial(n):\n",
    "    return math.factorial(n)\n",
    "\n",
    "numbers = range(1, 11)\n",
    "\n",
    "# Create a ThreadPoolExecutor\n",
    "with ThreadPoolExecutor() as executor:\n",
    "    results = executor.map(factorial, numbers)\n",
    "\n",
    "print(list(results))\n"
   ]
  },
  {
   "cell_type": "code",
   "execution_count": null,
   "metadata": {},
   "outputs": [],
   "source": [
    "# 8. Multiprocessing Pool for Square Calculation with Time Measurement:\n",
    "import multiprocessing\n",
    "import time\n",
    "\n",
    "def square(n):\n",
    "    return n * n\n",
    "\n",
    "numbers = range(1, 11)\n",
    "\n",
    "def measure_time(pool_size):\n",
    "    start_time = time.time()\n",
    "    with multiprocessing.Pool(pool_size) as pool:\n",
    "        results = pool.map(square, numbers)\n",
    "    end_time = time.time()\n",
    "    print(f\"Pool size {pool_size}: {results} (Time taken: {end_time - start_time:.4f} seconds)\")\n",
    "\n",
    "# Measure time for different pool sizes\n",
    "for size in [2, 4, 8]:\n",
    "    measure_time(size)\n"
   ]
  },
  {
   "cell_type": "code",
   "execution_count": null,
   "metadata": {},
   "outputs": [],
   "source": []
  }
 ],
 "metadata": {
  "kernelspec": {
   "display_name": "base",
   "language": "python",
   "name": "python3"
  },
  "language_info": {
   "codemirror_mode": {
    "name": "ipython",
    "version": 3
   },
   "file_extension": ".py",
   "mimetype": "text/x-python",
   "name": "python",
   "nbconvert_exporter": "python",
   "pygments_lexer": "ipython3",
   "version": "3.11.5"
  }
 },
 "nbformat": 4,
 "nbformat_minor": 2
}
